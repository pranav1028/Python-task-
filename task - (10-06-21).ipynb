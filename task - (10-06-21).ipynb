{
 "cells": [
  {
   "cell_type": "code",
   "execution_count": 1,
   "metadata": {},
   "outputs": [
    {
     "name": "stdout",
     "output_type": "stream",
     "text": [
      "enter you value:pranav\n",
      "a n\n"
     ]
    }
   ],
   "source": [
    "a = input(\"enter you value:\")\n",
    "if (len(a))%2==0:\n",
    "    b = a[(len(a) - 1) // 2]\n",
    "    c = a[len(a) // 2]\n",
    "    print(b,c)\n",
    "else:\n",
    "    middle = a[len(a)//2]\n",
    "    print(middle)"
   ]
  },
  {
   "cell_type": "code",
   "execution_count": 3,
   "metadata": {},
   "outputs": [
    {
     "name": "stdout",
     "output_type": "stream",
     "text": [
      "enter you value:102\n",
      "0\n"
     ]
    }
   ],
   "source": [
    "a = input(\"enter you value:\")\n",
    "if (len(a))%2==0:\n",
    "    b = a[(len(a) - 1) // 2]\n",
    "    c = a[len(a) // 2]\n",
    "    print(b,c)\n",
    "else:\n",
    "    middle = a[len(a)//2]\n",
    "    print(middle)\n",
    "    "
   ]
  },
  {
   "cell_type": "code",
   "execution_count": 4,
   "metadata": {},
   "outputs": [
    {
     "name": "stdout",
     "output_type": "stream",
     "text": [
      "enter you value:1028\n",
      "0 2\n"
     ]
    }
   ],
   "source": [
    "a = input(\"enter you value:\")\n",
    "if (len(a))%2==0:\n",
    "    b = a[(len(a) - 1) // 2]\n",
    "    c = a[len(a) // 2]\n",
    "    print(b,c)\n",
    "else:\n",
    "    middle = a[len(a)//2]\n",
    "    print(middle)"
   ]
  },
  {
   "cell_type": "code",
   "execution_count": 5,
   "metadata": {},
   "outputs": [
    {
     "name": "stdout",
     "output_type": "stream",
     "text": [
      "enter you value:don\n",
      "o\n"
     ]
    }
   ],
   "source": [
    "a = input(\"enter you value:\")\n",
    "if (len(a))%2==0:\n",
    "    b = a[(len(a) - 1) // 2]\n",
    "    c = a[len(a) // 2]\n",
    "    print(b,c)\n",
    "else:\n",
    "    middle = a[len(a)//2]\n",
    "    print(middle)"
   ]
  },
  {
   "cell_type": "code",
   "execution_count": null,
   "metadata": {},
   "outputs": [],
   "source": []
  }
 ],
 "metadata": {
  "kernelspec": {
   "display_name": "Python 3",
   "language": "python",
   "name": "python3"
  },
  "language_info": {
   "codemirror_mode": {
    "name": "ipython",
    "version": 3
   },
   "file_extension": ".py",
   "mimetype": "text/x-python",
   "name": "python",
   "nbconvert_exporter": "python",
   "pygments_lexer": "ipython3",
   "version": "3.7.4"
  }
 },
 "nbformat": 4,
 "nbformat_minor": 2
}

{
 "cells": [
  {
   "cell_type": "markdown",
   "metadata": {},
   "source": [
    "create a function for finding the leap years within the given range"
   ]
  },
  {
   "cell_type": "code",
   "execution_count": 18,
   "metadata": {},
   "outputs": [
    {
     "name": "stdout",
     "output_type": "stream",
     "text": [
      "Enter the lower year: 2001\n",
      "Enter the higher year: 2022\n",
      "Between 2001 and 2022\n",
      "2004 is leap year\n",
      "2008 is leap year\n",
      "2012 is leap year\n",
      "2016 is leap year\n",
      "2020 is leap year\n"
     ]
    }
   ],
   "source": [
    "start_yr = int(input(\"Enter the lower year: \"))\n",
    "end_yr = int(input(\"Enter the higher year: \"))\n",
    "def leap_yr(year):\n",
    "    if (year%4==0 and year%100!=0 or year%400==0):\n",
    "        return True\n",
    "    else:\n",
    "        return False\n",
    "print(\"Between\", start_yr, \"and\", end_yr)\n",
    "for i in range(start_yr, end_yr):\n",
    "    if leap_yr(i) == True:\n",
    "        print(i, \"is leap year\")"
   ]
  },
  {
   "cell_type": "markdown",
   "metadata": {},
   "source": [
    "Create a function for getting the armstrong numbers within the given range"
   ]
  },
  {
   "cell_type": "code",
   "execution_count": 20,
   "metadata": {},
   "outputs": [
    {
     "name": "stdout",
     "output_type": "stream",
     "text": [
      "Enter your lower value: 1\n",
      "Enter your higher value: 100\n",
      "1\n",
      "2\n",
      "3\n",
      "4\n",
      "5\n",
      "6\n",
      "7\n",
      "8\n",
      "9\n"
     ]
    }
   ],
   "source": [
    "start = int(input(\"Enter your lower value: \"))\n",
    "end = int(input(\"Enter your higher value: \"))\n",
    "def armstrong(a, b):\n",
    "    for i in range(a, b+1):\n",
    "        num = i\n",
    "        result = 0\n",
    "        n = len(str(i))\n",
    "        while(i != 0):\n",
    "            digit = i % 10\n",
    "            result = result + digit ** n\n",
    "            i = i//10\n",
    "        if num == result:\n",
    "            print(num)\n",
    "armstrong(start, end)"
   ]
  },
  {
   "cell_type": "markdown",
   "metadata": {},
   "source": [
    "create a function for getting the prime numbers within the range\n",
    " "
   ]
  },
  {
   "cell_type": "code",
   "execution_count": 21,
   "metadata": {},
   "outputs": [
    {
     "name": "stdout",
     "output_type": "stream",
     "text": [
      "Enter your lower range: 1\n",
      "Enter your upper range: 20\n",
      "1 is a prime num\n",
      "2 is a prime num\n",
      "3 is a prime num\n",
      "5 is a prime num\n",
      "7 is a prime num\n",
      "11 is a prime num\n",
      "13 is a prime num\n",
      "17 is a prime num\n",
      "19 is a prime num\n"
     ]
    }
   ],
   "source": [
    "lower = int(input(\"Enter your lower range: \"))\n",
    "upper = int(input(\"Enter your upper range: \"))\n",
    "\n",
    "def prime(a, b):\n",
    "    for n in range(a, b+1):\n",
    "        for i in range(2, n):\n",
    "            if n % i == 0:\n",
    "                break\n",
    "        else:\n",
    "            print(n, \"is a prime num\")\n",
    "prime(lower, upper)"
   ]
  },
  {
   "cell_type": "markdown",
   "metadata": {},
   "source": [
    "Create a function for finding the count of elements in a string.\"Srm university\""
   ]
  },
  {
   "cell_type": "code",
   "execution_count": 22,
   "metadata": {},
   "outputs": [
    {
     "name": "stdout",
     "output_type": "stream",
     "text": [
      "Enter your value: srm university\n",
      "Number of elements in your string is:  14\n"
     ]
    }
   ],
   "source": [
    "string = input(\"Enter your value: \")\n",
    "def strng(string):\n",
    "    strng = 0\n",
    "    for i in string:\n",
    "        strng = strng + 1\n",
    "    return strng\n",
    "print(\"Number of elements in your string is: \", strng(string))"
   ]
  },
  {
   "cell_type": "code",
   "execution_count": null,
   "metadata": {},
   "outputs": [],
   "source": []
  }
 ],
 "metadata": {
  "kernelspec": {
   "display_name": "Python 3",
   "language": "python",
   "name": "python3"
  },
  "language_info": {
   "codemirror_mode": {
    "name": "ipython",
    "version": 3
   },
   "file_extension": ".py",
   "mimetype": "text/x-python",
   "name": "python",
   "nbconvert_exporter": "python",
   "pygments_lexer": "ipython3",
   "version": "3.7.4"
  }
 },
 "nbformat": 4,
 "nbformat_minor": 2
}

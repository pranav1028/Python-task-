{
 "cells": [
  {
   "cell_type": "code",
   "execution_count": 3,
   "metadata": {},
   "outputs": [
    {
     "name": "stdout",
     "output_type": "stream",
     "text": [
      "Enter you roll number: ap19110010114\n",
      "IT Dept\n"
     ]
    }
   ],
   "source": [
    "string1= input(\"Enter you roll number: \")\n",
    "string1[-3:]\n",
    "if (string1[-3:].startswith('01')):\n",
    "    print(\"Cse Dept\")\n",
    "elif (string1[-3:].startswith('11')):\n",
    "    print(\"IT Dept\")\n",
    "elif (string1[-3:].startswith('21')):\n",
    "    print(\"Ece Dept\")\n",
    "else:\n",
    "    print(\"Not an SRM student\")"
   ]
  },
  {
   "cell_type": "code",
   "execution_count": null,
   "metadata": {},
   "outputs": [],
   "source": []
  }
 ],
 "metadata": {
  "kernelspec": {
   "display_name": "Python 3",
   "language": "python",
   "name": "python3"
  },
  "language_info": {
   "codemirror_mode": {
    "name": "ipython",
    "version": 3
   },
   "file_extension": ".py",
   "mimetype": "text/x-python",
   "name": "python",
   "nbconvert_exporter": "python",
   "pygments_lexer": "ipython3",
   "version": "3.7.4"
  }
 },
 "nbformat": 4,
 "nbformat_minor": 2
}

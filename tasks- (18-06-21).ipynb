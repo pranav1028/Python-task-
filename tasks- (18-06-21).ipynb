{
 "cells": [
  {
   "cell_type": "markdown",
   "metadata": {},
   "source": [
    "write a program for getting the last five line from the file."
   ]
  },
  {
   "cell_type": "code",
   "execution_count": 44,
   "metadata": {},
   "outputs": [],
   "source": [
    "a = open(\"file.txt\",'w')\n",
    "a.close()\n"
   ]
  },
  {
   "cell_type": "code",
   "execution_count": 45,
   "metadata": {},
   "outputs": [],
   "source": [
    "a= open(\"file.txt\",'w')\n",
    "a1=a.write(\"1\\n\")\n",
    "a1=a.write(\"2\\n\")\n",
    "a1=a.write(\"3\\n\")\n",
    "a1=a.write(\"4\\n\")\n",
    "a1=a.write(\"5\\n\")\n",
    "a1=a.write(\"6\\n\")\n",
    "a1=a.write(\"7\\n\")\n",
    "a1=a.write(\"8\\n\")\n",
    "a1=a.write(\"9\\n\")\n",
    "a1=a.write(\"10\\n\")\n",
    "a.close()"
   ]
  },
  {
   "cell_type": "code",
   "execution_count": 46,
   "metadata": {},
   "outputs": [
    {
     "name": "stdout",
     "output_type": "stream",
     "text": [
      "['6\\n', '7\\n', '8\\n', '9\\n', '10\\n']\n"
     ]
    }
   ],
   "source": [
    "a = open(\"file.txt\",'r')\n",
    "l = a.readlines()\n",
    "last_5_lines = l[-5:]\n",
    "print(last_5_lines)\n",
    "a.close()"
   ]
  },
  {
   "cell_type": "markdown",
   "metadata": {},
   "source": [
    "Create a function for appending the data into the file."
   ]
  },
  {
   "cell_type": "code",
   "execution_count": 48,
   "metadata": {},
   "outputs": [
    {
     "data": {
      "text/plain": [
       "'1\\n2\\n3\\n4\\n5\\n6\\n7\\n8\\n9\\n10\\nhello'"
      ]
     },
     "execution_count": 48,
     "metadata": {},
     "output_type": "execute_result"
    }
   ],
   "source": [
    "def appendfile(x):\n",
    "    with open(x,'a') as a:\n",
    "        data = a.write('hello')\n",
    "    return data\n",
    "appendfile('file.txt')\n",
    "\n",
    "a = open('file.txt','r')\n",
    "a.read()"
   ]
  },
  {
   "cell_type": "markdown",
   "metadata": {},
   "source": [
    "create a program for updating a word in the file"
   ]
  },
  {
   "cell_type": "code",
   "execution_count": 52,
   "metadata": {},
   "outputs": [
    {
     "name": "stdout",
     "output_type": "stream",
     "text": [
      "<built-in method read of _io.TextIOWrapper object at 0x000001F6A2B3A9E8>\n"
     ]
    }
   ],
   "source": [
    "import re\n",
    "with open('file.txt', 'r+') as a:\n",
    "    z = a.read()\n",
    "    z = re.sub('hello', 'howdy', z)\n",
    "    a.seek(0)\n",
    "    a.write(z)\n",
    "a = open('file.txt')\n",
    "print(a.read)"
   ]
  },
  {
   "cell_type": "code",
   "execution_count": null,
   "metadata": {},
   "outputs": [],
   "source": []
  }
 ],
 "metadata": {
  "kernelspec": {
   "display_name": "Python 3",
   "language": "python",
   "name": "python3"
  },
  "language_info": {
   "codemirror_mode": {
    "name": "ipython",
    "version": 3
   },
   "file_extension": ".py",
   "mimetype": "text/x-python",
   "name": "python",
   "nbconvert_exporter": "python",
   "pygments_lexer": "ipython3",
   "version": "3.7.4"
  }
 },
 "nbformat": 4,
 "nbformat_minor": 2
}
